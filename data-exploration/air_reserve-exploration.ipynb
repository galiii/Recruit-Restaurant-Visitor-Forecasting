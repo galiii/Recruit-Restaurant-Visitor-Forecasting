{
 "cells": [
  {
   "cell_type": "code",
   "execution_count": 1,
   "metadata": {},
   "outputs": [],
   "source": [
    "import numpy as np\n",
    "import pandas as pd\n",
    "import seaborn as sns\n",
    "import matplotlib.pyplot as plt\n",
    "import matplotlib.dates as mdates\n",
    "%matplotlib inline"
   ]
  },
  {
   "cell_type": "markdown",
   "metadata": {},
   "source": [
    "<h1>Air reserve DB from csv</h1>"
   ]
  },
  {
   "cell_type": "code",
   "execution_count": 2,
   "metadata": {},
   "outputs": [],
   "source": [
    "df = pd.read_csv(\"../input/air_reserve.csv\", parse_dates=['visit_datetime', 'reserve_datetime'])"
   ]
  },
  {
   "cell_type": "code",
   "execution_count": 3,
   "metadata": {},
   "outputs": [
    {
     "name": "stdout",
     "output_type": "stream",
     "text": [
      "<class 'pandas.core.frame.DataFrame'>\n",
      "RangeIndex: 92378 entries, 0 to 92377\n",
      "Data columns (total 4 columns):\n",
      "air_store_id        92378 non-null object\n",
      "visit_datetime      92378 non-null datetime64[ns]\n",
      "reserve_datetime    92378 non-null datetime64[ns]\n",
      "reserve_visitors    92378 non-null int64\n",
      "dtypes: datetime64[ns](2), int64(1), object(1)\n",
      "memory usage: 2.8+ MB\n"
     ]
    }
   ],
   "source": [
    "df.info()"
   ]
  },
  {
   "cell_type": "code",
   "execution_count": 4,
   "metadata": {},
   "outputs": [
    {
     "data": {
      "text/html": [
       "<div>\n",
       "<style scoped>\n",
       "    .dataframe tbody tr th:only-of-type {\n",
       "        vertical-align: middle;\n",
       "    }\n",
       "\n",
       "    .dataframe tbody tr th {\n",
       "        vertical-align: top;\n",
       "    }\n",
       "\n",
       "    .dataframe thead th {\n",
       "        text-align: right;\n",
       "    }\n",
       "</style>\n",
       "<table border=\"1\" class=\"dataframe\">\n",
       "  <thead>\n",
       "    <tr style=\"text-align: right;\">\n",
       "      <th></th>\n",
       "      <th>air_store_id</th>\n",
       "      <th>visit_datetime</th>\n",
       "      <th>reserve_datetime</th>\n",
       "      <th>reserve_visitors</th>\n",
       "    </tr>\n",
       "  </thead>\n",
       "  <tbody>\n",
       "    <tr>\n",
       "      <th>0</th>\n",
       "      <td>air_877f79706adbfb06</td>\n",
       "      <td>2016-01-01 19:00:00</td>\n",
       "      <td>2016-01-01 16:00:00</td>\n",
       "      <td>1</td>\n",
       "    </tr>\n",
       "    <tr>\n",
       "      <th>1</th>\n",
       "      <td>air_db4b38ebe7a7ceff</td>\n",
       "      <td>2016-01-01 19:00:00</td>\n",
       "      <td>2016-01-01 19:00:00</td>\n",
       "      <td>3</td>\n",
       "    </tr>\n",
       "    <tr>\n",
       "      <th>2</th>\n",
       "      <td>air_db4b38ebe7a7ceff</td>\n",
       "      <td>2016-01-01 19:00:00</td>\n",
       "      <td>2016-01-01 19:00:00</td>\n",
       "      <td>6</td>\n",
       "    </tr>\n",
       "    <tr>\n",
       "      <th>3</th>\n",
       "      <td>air_877f79706adbfb06</td>\n",
       "      <td>2016-01-01 20:00:00</td>\n",
       "      <td>2016-01-01 16:00:00</td>\n",
       "      <td>2</td>\n",
       "    </tr>\n",
       "    <tr>\n",
       "      <th>4</th>\n",
       "      <td>air_db80363d35f10926</td>\n",
       "      <td>2016-01-01 20:00:00</td>\n",
       "      <td>2016-01-01 01:00:00</td>\n",
       "      <td>5</td>\n",
       "    </tr>\n",
       "  </tbody>\n",
       "</table>\n",
       "</div>"
      ],
      "text/plain": [
       "           air_store_id      visit_datetime    reserve_datetime  \\\n",
       "0  air_877f79706adbfb06 2016-01-01 19:00:00 2016-01-01 16:00:00   \n",
       "1  air_db4b38ebe7a7ceff 2016-01-01 19:00:00 2016-01-01 19:00:00   \n",
       "2  air_db4b38ebe7a7ceff 2016-01-01 19:00:00 2016-01-01 19:00:00   \n",
       "3  air_877f79706adbfb06 2016-01-01 20:00:00 2016-01-01 16:00:00   \n",
       "4  air_db80363d35f10926 2016-01-01 20:00:00 2016-01-01 01:00:00   \n",
       "\n",
       "   reserve_visitors  \n",
       "0                 1  \n",
       "1                 3  \n",
       "2                 6  \n",
       "3                 2  \n",
       "4                 5  "
      ]
     },
     "execution_count": 4,
     "metadata": {},
     "output_type": "execute_result"
    }
   ],
   "source": [
    "df.head()"
   ]
  },
  {
   "cell_type": "code",
   "execution_count": 5,
   "metadata": {},
   "outputs": [
    {
     "data": {
      "text/html": [
       "<div>\n",
       "<style scoped>\n",
       "    .dataframe tbody tr th:only-of-type {\n",
       "        vertical-align: middle;\n",
       "    }\n",
       "\n",
       "    .dataframe tbody tr th {\n",
       "        vertical-align: top;\n",
       "    }\n",
       "\n",
       "    .dataframe thead th {\n",
       "        text-align: right;\n",
       "    }\n",
       "</style>\n",
       "<table border=\"1\" class=\"dataframe\">\n",
       "  <thead>\n",
       "    <tr style=\"text-align: right;\">\n",
       "      <th></th>\n",
       "      <th>reserve_visitors</th>\n",
       "    </tr>\n",
       "  </thead>\n",
       "  <tbody>\n",
       "    <tr>\n",
       "      <th>count</th>\n",
       "      <td>92378.000000</td>\n",
       "    </tr>\n",
       "    <tr>\n",
       "      <th>mean</th>\n",
       "      <td>4.481749</td>\n",
       "    </tr>\n",
       "    <tr>\n",
       "      <th>std</th>\n",
       "      <td>4.919669</td>\n",
       "    </tr>\n",
       "    <tr>\n",
       "      <th>min</th>\n",
       "      <td>1.000000</td>\n",
       "    </tr>\n",
       "    <tr>\n",
       "      <th>25%</th>\n",
       "      <td>2.000000</td>\n",
       "    </tr>\n",
       "    <tr>\n",
       "      <th>50%</th>\n",
       "      <td>3.000000</td>\n",
       "    </tr>\n",
       "    <tr>\n",
       "      <th>75%</th>\n",
       "      <td>5.000000</td>\n",
       "    </tr>\n",
       "    <tr>\n",
       "      <th>max</th>\n",
       "      <td>100.000000</td>\n",
       "    </tr>\n",
       "  </tbody>\n",
       "</table>\n",
       "</div>"
      ],
      "text/plain": [
       "       reserve_visitors\n",
       "count      92378.000000\n",
       "mean           4.481749\n",
       "std            4.919669\n",
       "min            1.000000\n",
       "25%            2.000000\n",
       "50%            3.000000\n",
       "75%            5.000000\n",
       "max          100.000000"
      ]
     },
     "execution_count": 5,
     "metadata": {},
     "output_type": "execute_result"
    }
   ],
   "source": [
    "df.describe()"
   ]
  },
  {
   "cell_type": "code",
   "execution_count": 6,
   "metadata": {},
   "outputs": [
    {
     "data": {
      "text/plain": [
       "False"
      ]
     },
     "execution_count": 6,
     "metadata": {},
     "output_type": "execute_result"
    }
   ],
   "source": [
    "df.isnull().values.any()"
   ]
  },
  {
   "cell_type": "markdown",
   "metadata": {},
   "source": [
    "Data is clean and it does not contain any missing values."
   ]
  },
  {
   "cell_type": "markdown",
   "metadata": {},
   "source": [
    "<h2>Column: air_store_id </h2>"
   ]
  },
  {
   "cell_type": "code",
   "execution_count": 7,
   "metadata": {},
   "outputs": [
    {
     "name": "stdout",
     "output_type": "stream",
     "text": [
      "The dataset contains info about 314 restaurants\n"
     ]
    }
   ],
   "source": [
    "print('The dataset contains info about %s restaurants' % len(df['air_store_id'].unique()))"
   ]
  },
  {
   "cell_type": "code",
   "execution_count": 8,
   "metadata": {},
   "outputs": [
    {
     "data": {
      "text/plain": [
       "air_8093d0b565e9dbdf    2263\n",
       "air_e55abd740f93ecc4    1903\n",
       "air_0a74a5408a0b8642    1831\n",
       "air_cf5ab75a0afb8af9    1758\n",
       "air_6d65542aa43b598b    1436\n",
       "air_de692863bb2dd758    1355\n",
       "air_326ca454ef3558bc    1282\n",
       "air_03963426c9312048    1267\n",
       "air_483eba479dc9910d    1232\n",
       "air_f911308e19d64236    1197\n",
       "air_3bb99a1fe0583897    1185\n",
       "air_24b9b2a020826ede    1143\n",
       "air_5f6fa1b897fe80d5    1134\n",
       "air_6b15edd1b4fbb96a    1085\n",
       "air_877f79706adbfb06    1061\n",
       "air_2cee51fa6fdf6c0d    1057\n",
       "air_96743eee94114261     996\n",
       "air_2d3afcb91762fe01     952\n",
       "air_a083834e7ffe187e     938\n",
       "air_1408dd53f31a8a65     918\n",
       "air_d6b3e67261f07646     898\n",
       "air_af63df35857b16e6     870\n",
       "air_7831b00996701c0f     858\n",
       "air_4092cfbd95a3ac1b     854\n",
       "air_3c05c8f26c611eb9     839\n",
       "air_9b6af3db40da4ae2     836\n",
       "air_de803f7e324936b8     832\n",
       "air_e7fbee4e3cfe65c5     828\n",
       "air_3cad29d1a23209d2     823\n",
       "air_4b55d8aea1d2b395     814\n",
       "                        ... \n",
       "air_fee8dcf4d619598e       2\n",
       "air_084d98859256acf0       2\n",
       "air_876d7a23c47811cb       2\n",
       "air_15ae33469e9ea2dd       2\n",
       "air_1f1390a8be2272b3       2\n",
       "air_8cc350fd70ee0757       1\n",
       "air_cf2229e64408d9fe       1\n",
       "air_b60cc7d6aee68194       1\n",
       "air_e01d99390355408d       1\n",
       "air_63e28ee0b0c955a7       1\n",
       "air_e700e390226d9985       1\n",
       "air_96005f79124e12bf       1\n",
       "air_883ca28ef0ed3d55       1\n",
       "air_cc35590cd1da8554       1\n",
       "air_eca4a5a191e8d993       1\n",
       "air_950381108f839348       1\n",
       "air_5485912b44f976de       1\n",
       "air_f0fb0975bdc2cdf9       1\n",
       "air_4de6d887a7b1c1fc       1\n",
       "air_256be208a979e023       1\n",
       "air_859feab8e3c9f98d       1\n",
       "air_e657ca554b0c008c       1\n",
       "air_629d9935273c82ae       1\n",
       "air_93b9bb641f8fc982       1\n",
       "air_ab9746a0f83084b7       1\n",
       "air_d1418d6fd6d634f2       1\n",
       "air_2bffb19a24d11729       1\n",
       "air_35512c42db0868da       1\n",
       "air_a55d17bd3f3033cb       1\n",
       "air_87467487d21891dd       1\n",
       "Name: air_store_id, Length: 314, dtype: int64"
      ]
     },
     "execution_count": 8,
     "metadata": {},
     "output_type": "execute_result"
    }
   ],
   "source": [
    "# The restaurants sorted by number of reservations\n",
    "df['air_store_id'].value_counts()"
   ]
  },
  {
   "cell_type": "code",
   "execution_count": null,
   "metadata": {},
   "outputs": [],
   "source": []
  }
 ],
 "metadata": {
  "kernelspec": {
   "display_name": "Python 3",
   "language": "python",
   "name": "python3"
  },
  "language_info": {
   "codemirror_mode": {
    "name": "ipython",
    "version": 3
   },
   "file_extension": ".py",
   "mimetype": "text/x-python",
   "name": "python",
   "nbconvert_exporter": "python",
   "pygments_lexer": "ipython3",
   "version": "3.6.8"
  }
 },
 "nbformat": 4,
 "nbformat_minor": 2
}
