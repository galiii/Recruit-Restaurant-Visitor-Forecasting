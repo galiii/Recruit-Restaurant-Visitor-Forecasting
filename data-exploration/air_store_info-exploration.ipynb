{
 "cells": [
  {
   "cell_type": "code",
   "execution_count": 130,
   "metadata": {},
   "outputs": [],
   "source": [
    "import numpy as np\n",
    "import pandas as pd\n",
    "import seaborn as sns\n",
    "import matplotlib.pyplot as plt\n",
    "import matplotlib.dates as mdates\n",
    "%matplotlib inline"
   ]
  },
  {
   "cell_type": "markdown",
   "metadata": {},
   "source": [
    "<h1>Air Store Info DB from csv</h1>"
   ]
  },
  {
   "cell_type": "code",
   "execution_count": 131,
   "metadata": {},
   "outputs": [],
   "source": [
    "df = pd.read_csv(\"../input/air_store_info.csv\")"
   ]
  },
  {
   "cell_type": "code",
   "execution_count": 132,
   "metadata": {},
   "outputs": [
    {
     "name": "stdout",
     "output_type": "stream",
     "text": [
      "<class 'pandas.core.frame.DataFrame'>\n",
      "RangeIndex: 829 entries, 0 to 828\n",
      "Data columns (total 5 columns):\n",
      "air_store_id      829 non-null object\n",
      "air_genre_name    829 non-null object\n",
      "air_area_name     829 non-null object\n",
      "latitude          829 non-null float64\n",
      "longitude         829 non-null float64\n",
      "dtypes: float64(2), object(3)\n",
      "memory usage: 32.5+ KB\n"
     ]
    }
   ],
   "source": [
    "df.info()"
   ]
  },
  {
   "cell_type": "code",
   "execution_count": 133,
   "metadata": {},
   "outputs": [
    {
     "data": {
      "text/html": [
       "<div>\n",
       "<style scoped>\n",
       "    .dataframe tbody tr th:only-of-type {\n",
       "        vertical-align: middle;\n",
       "    }\n",
       "\n",
       "    .dataframe tbody tr th {\n",
       "        vertical-align: top;\n",
       "    }\n",
       "\n",
       "    .dataframe thead th {\n",
       "        text-align: right;\n",
       "    }\n",
       "</style>\n",
       "<table border=\"1\" class=\"dataframe\">\n",
       "  <thead>\n",
       "    <tr style=\"text-align: right;\">\n",
       "      <th></th>\n",
       "      <th>air_store_id</th>\n",
       "      <th>air_genre_name</th>\n",
       "      <th>air_area_name</th>\n",
       "      <th>latitude</th>\n",
       "      <th>longitude</th>\n",
       "    </tr>\n",
       "  </thead>\n",
       "  <tbody>\n",
       "    <tr>\n",
       "      <th>0</th>\n",
       "      <td>air_0f0cdeee6c9bf3d7</td>\n",
       "      <td>Italian/French</td>\n",
       "      <td>Hyōgo-ken Kōbe-shi Kumoidōri</td>\n",
       "      <td>34.695124</td>\n",
       "      <td>135.197852</td>\n",
       "    </tr>\n",
       "    <tr>\n",
       "      <th>1</th>\n",
       "      <td>air_7cc17a324ae5c7dc</td>\n",
       "      <td>Italian/French</td>\n",
       "      <td>Hyōgo-ken Kōbe-shi Kumoidōri</td>\n",
       "      <td>34.695124</td>\n",
       "      <td>135.197852</td>\n",
       "    </tr>\n",
       "    <tr>\n",
       "      <th>2</th>\n",
       "      <td>air_fee8dcf4d619598e</td>\n",
       "      <td>Italian/French</td>\n",
       "      <td>Hyōgo-ken Kōbe-shi Kumoidōri</td>\n",
       "      <td>34.695124</td>\n",
       "      <td>135.197852</td>\n",
       "    </tr>\n",
       "    <tr>\n",
       "      <th>3</th>\n",
       "      <td>air_a17f0778617c76e2</td>\n",
       "      <td>Italian/French</td>\n",
       "      <td>Hyōgo-ken Kōbe-shi Kumoidōri</td>\n",
       "      <td>34.695124</td>\n",
       "      <td>135.197852</td>\n",
       "    </tr>\n",
       "    <tr>\n",
       "      <th>4</th>\n",
       "      <td>air_83db5aff8f50478e</td>\n",
       "      <td>Italian/French</td>\n",
       "      <td>Tōkyō-to Minato-ku Shibakōen</td>\n",
       "      <td>35.658068</td>\n",
       "      <td>139.751599</td>\n",
       "    </tr>\n",
       "  </tbody>\n",
       "</table>\n",
       "</div>"
      ],
      "text/plain": [
       "           air_store_id  air_genre_name                 air_area_name  \\\n",
       "0  air_0f0cdeee6c9bf3d7  Italian/French  Hyōgo-ken Kōbe-shi Kumoidōri   \n",
       "1  air_7cc17a324ae5c7dc  Italian/French  Hyōgo-ken Kōbe-shi Kumoidōri   \n",
       "2  air_fee8dcf4d619598e  Italian/French  Hyōgo-ken Kōbe-shi Kumoidōri   \n",
       "3  air_a17f0778617c76e2  Italian/French  Hyōgo-ken Kōbe-shi Kumoidōri   \n",
       "4  air_83db5aff8f50478e  Italian/French  Tōkyō-to Minato-ku Shibakōen   \n",
       "\n",
       "    latitude   longitude  \n",
       "0  34.695124  135.197852  \n",
       "1  34.695124  135.197852  \n",
       "2  34.695124  135.197852  \n",
       "3  34.695124  135.197852  \n",
       "4  35.658068  139.751599  "
      ]
     },
     "execution_count": 133,
     "metadata": {},
     "output_type": "execute_result"
    }
   ],
   "source": [
    "df.head()"
   ]
  },
  {
   "cell_type": "code",
   "execution_count": 134,
   "metadata": {},
   "outputs": [
    {
     "data": {
      "text/html": [
       "<div>\n",
       "<style scoped>\n",
       "    .dataframe tbody tr th:only-of-type {\n",
       "        vertical-align: middle;\n",
       "    }\n",
       "\n",
       "    .dataframe tbody tr th {\n",
       "        vertical-align: top;\n",
       "    }\n",
       "\n",
       "    .dataframe thead th {\n",
       "        text-align: right;\n",
       "    }\n",
       "</style>\n",
       "<table border=\"1\" class=\"dataframe\">\n",
       "  <thead>\n",
       "    <tr style=\"text-align: right;\">\n",
       "      <th></th>\n",
       "      <th>latitude</th>\n",
       "      <th>longitude</th>\n",
       "    </tr>\n",
       "  </thead>\n",
       "  <tbody>\n",
       "    <tr>\n",
       "      <th>count</th>\n",
       "      <td>829.000000</td>\n",
       "      <td>829.000000</td>\n",
       "    </tr>\n",
       "    <tr>\n",
       "      <th>mean</th>\n",
       "      <td>35.647042</td>\n",
       "      <td>137.415311</td>\n",
       "    </tr>\n",
       "    <tr>\n",
       "      <th>std</th>\n",
       "      <td>2.084659</td>\n",
       "      <td>3.650971</td>\n",
       "    </tr>\n",
       "    <tr>\n",
       "      <th>min</th>\n",
       "      <td>33.211967</td>\n",
       "      <td>130.195555</td>\n",
       "    </tr>\n",
       "    <tr>\n",
       "      <th>25%</th>\n",
       "      <td>34.695124</td>\n",
       "      <td>135.341564</td>\n",
       "    </tr>\n",
       "    <tr>\n",
       "      <th>50%</th>\n",
       "      <td>35.658068</td>\n",
       "      <td>139.685474</td>\n",
       "    </tr>\n",
       "    <tr>\n",
       "      <th>75%</th>\n",
       "      <td>35.694003</td>\n",
       "      <td>139.751599</td>\n",
       "    </tr>\n",
       "    <tr>\n",
       "      <th>max</th>\n",
       "      <td>44.020632</td>\n",
       "      <td>144.273398</td>\n",
       "    </tr>\n",
       "  </tbody>\n",
       "</table>\n",
       "</div>"
      ],
      "text/plain": [
       "         latitude   longitude\n",
       "count  829.000000  829.000000\n",
       "mean    35.647042  137.415311\n",
       "std      2.084659    3.650971\n",
       "min     33.211967  130.195555\n",
       "25%     34.695124  135.341564\n",
       "50%     35.658068  139.685474\n",
       "75%     35.694003  139.751599\n",
       "max     44.020632  144.273398"
      ]
     },
     "execution_count": 134,
     "metadata": {},
     "output_type": "execute_result"
    }
   ],
   "source": [
    "df.describe()"
   ]
  },
  {
   "cell_type": "code",
   "execution_count": 135,
   "metadata": {},
   "outputs": [
    {
     "data": {
      "text/plain": [
       "False"
      ]
     },
     "execution_count": 135,
     "metadata": {},
     "output_type": "execute_result"
    }
   ],
   "source": [
    "df.isnull().values.any()"
   ]
  },
  {
   "cell_type": "markdown",
   "metadata": {},
   "source": [
    "Data is clean and it does not contain any missing values."
   ]
  },
  {
   "cell_type": "markdown",
   "metadata": {},
   "source": [
    "<h2>Column: air_store_id</h2>"
   ]
  },
  {
   "cell_type": "code",
   "execution_count": 136,
   "metadata": {},
   "outputs": [
    {
     "name": "stdout",
     "output_type": "stream",
     "text": [
      "The dataset contains info about 829 restaurants\n"
     ]
    }
   ],
   "source": [
    "print('The dataset contains info about %s restaurants' % len(df['air_store_id'].unique()))"
   ]
  },
  {
   "cell_type": "code",
   "execution_count": 137,
   "metadata": {},
   "outputs": [
    {
     "data": {
      "text/plain": [
       "count                      829\n",
       "unique                     829\n",
       "top       air_f6b2489ccf873c3b\n",
       "freq                         1\n",
       "Name: air_store_id, dtype: object"
      ]
     },
     "execution_count": 137,
     "metadata": {},
     "output_type": "execute_result"
    }
   ],
   "source": [
    "df['air_store_id'].describe()"
   ]
  },
  {
   "cell_type": "code",
   "execution_count": 138,
   "metadata": {},
   "outputs": [
    {
     "data": {
      "text/html": [
       "<div>\n",
       "<style scoped>\n",
       "    .dataframe tbody tr th:only-of-type {\n",
       "        vertical-align: middle;\n",
       "    }\n",
       "\n",
       "    .dataframe tbody tr th {\n",
       "        vertical-align: top;\n",
       "    }\n",
       "\n",
       "    .dataframe thead th {\n",
       "        text-align: right;\n",
       "    }\n",
       "</style>\n",
       "<table border=\"1\" class=\"dataframe\">\n",
       "  <thead>\n",
       "    <tr style=\"text-align: right;\">\n",
       "      <th></th>\n",
       "      <th>air_store_id</th>\n",
       "      <th>air_genre_name</th>\n",
       "      <th>air_area_name</th>\n",
       "      <th>latitude</th>\n",
       "      <th>longitude</th>\n",
       "    </tr>\n",
       "  </thead>\n",
       "  <tbody>\n",
       "  </tbody>\n",
       "</table>\n",
       "</div>"
      ],
      "text/plain": [
       "Empty DataFrame\n",
       "Columns: [air_store_id, air_genre_name, air_area_name, latitude, longitude]\n",
       "Index: []"
      ]
     },
     "execution_count": 138,
     "metadata": {},
     "output_type": "execute_result"
    }
   ],
   "source": [
    "# Check if there are duplicated air Store Ids\n",
    "df[df.duplicated(['air_store_id'])]"
   ]
  },
  {
   "cell_type": "markdown",
   "metadata": {},
   "source": [
    "Dataset is clean and it does not contain any duplicated entry :) That's great!"
   ]
  },
  {
   "cell_type": "markdown",
   "metadata": {},
   "source": [
    "<h2>Column: air_genre_name</h2>"
   ]
  },
  {
   "cell_type": "code",
   "execution_count": 139,
   "metadata": {},
   "outputs": [
    {
     "name": "stdout",
     "output_type": "stream",
     "text": [
      "count         829\n",
      "unique         14\n",
      "top       Izakaya\n",
      "freq          197\n",
      "Name: air_genre_name, dtype: object\n",
      "\n",
      "******************************************\n",
      "14 diffrent genere that in air\n",
      "\n",
      "******************************************\n",
      "Izakaya                         197\n",
      "Cafe/Sweets                     181\n",
      "Dining bar                      108\n",
      "Italian/French                  102\n",
      "Bar/Cocktail                     79\n",
      "Japanese food                    63\n",
      "Other                            27\n",
      "Yakiniku/Korean food             23\n",
      "Western food                     16\n",
      "Okonomiyaki/Monja/Teppanyaki     14\n",
      "Creative cuisine                 13\n",
      "Karaoke/Party                     2\n",
      "International cuisine             2\n",
      "Asian                             2\n",
      "Name: air_genre_name, dtype: int64\n"
     ]
    }
   ],
   "source": [
    "print(df['air_genre_name'].describe())\n",
    "print('\\n******************************************')\n",
    "print('%s diffrent genere that in air\\n'%len(df['air_genre_name'].unique()))\n",
    "print('******************************************')\n",
    "#count the amount of genre that we have\n",
    "print(df['air_genre_name'].value_counts())"
   ]
  },
  {
   "cell_type": "markdown",
   "metadata": {},
   "source": [
    "<h2>Column: air_area_name</h2>"
   ]
  },
  {
   "cell_type": "code",
   "execution_count": 140,
   "metadata": {},
   "outputs": [
    {
     "name": "stdout",
     "output_type": "stream",
     "text": [
      "count                                829\n",
      "unique                               103\n",
      "top       Fukuoka-ken Fukuoka-shi Daimyō\n",
      "freq                                  64\n",
      "Name: air_area_name, dtype: object\n",
      "\n",
      "***********************************\n",
      "Fukuoka-ken Fukuoka-shi Daimyō                   64\n",
      "Tōkyō-to Shibuya-ku Shibuya                      58\n",
      "Tōkyō-to Minato-ku Shibakōen                     51\n",
      "Tōkyō-to Shinjuku-ku Kabukichō                   39\n",
      "Tōkyō-to Setagaya-ku Setagaya                    30\n",
      "Tōkyō-to Chūō-ku Tsukiji                         29\n",
      "Ōsaka-fu Ōsaka-shi Ōgimachi                      25\n",
      "Hiroshima-ken Hiroshima-shi Kokutaijimachi       23\n",
      "Tōkyō-to Meguro-ku Kamimeguro                    22\n",
      "Tōkyō-to Suginami-ku Asagayaminami               21\n",
      "Hokkaidō Sapporo-shi Minami 3 Jōnishi            21\n",
      "Tōkyō-to Chiyoda-ku Kudanminami                  20\n",
      "Ōsaka-fu Ōsaka-shi Kyūtarōmachi                  19\n",
      "Miyagi-ken Sendai-shi Kamisugi                   17\n",
      "Hyōgo-ken Kōbe-shi Kumoidōri                     17\n",
      "Fukuoka-ken Fukuoka-shi Hakata Ekimae            16\n",
      "Tōkyō-to Taitō-ku Higashiueno                    16\n",
      "Tōkyō-to Chūō-ku Ginza                           14\n",
      "Shizuoka-ken Hamamatsu-shi Motoshirochō          13\n",
      "Hokkaidō Asahikawa-shi 6 Jōdōri                  13\n",
      "Tōkyō-to Toshima-ku Minamiikebukuro              12\n",
      "Hyōgo-ken Kakogawa-shi Kakogawachō Kitazaike     10\n",
      "Ōsaka-fu Ōsaka-shi Shinmachi                     10\n",
      "Hyōgo-ken Himeji-shi Yasuda                       9\n",
      "Tōkyō-to Kōtō-ku Tōyō                             9\n",
      "Tōkyō-to Minato-ku Akasaka                        8\n",
      "Hiroshima-ken Fukuyama-shi Higashisakuramachi     7\n",
      "Niigata-ken Niigata-shi Gakkōchōdōri 1 Banchō     7\n",
      "Fukuoka-ken Itoshima-shi Maebarunishi             7\n",
      "Fukuoka-ken Fukuoka-shi Shiobaru                  7\n",
      "                                                 ..\n",
      "Tōkyō-to Koganei-shi Honchō                       2\n",
      "Tōkyō-to Setagaya-ku Kitazawa                     2\n",
      "Tōkyō-to Chiyoda-ku Kanda Jinbōchō                2\n",
      "Tōkyō-to Kōtō-ku Tomioka                          2\n",
      "Tōkyō-to Minato-ku Roppongi                       2\n",
      "Ōsaka-fu Ōsaka-shi Fuminosato                     2\n",
      "Tōkyō-to Katsushika-ku Tateishi                   2\n",
      "Hyōgo-ken Kōbe-shi Motomachidōri                  2\n",
      "Niigata-ken Nagaoka-shi Ōtedōri                   2\n",
      "Tōkyō-to Bunkyō-ku Sendagi                        2\n",
      "Hokkaidō Sapporo-shi Atsubetsuchūō 1 Jō           2\n",
      "Hiroshima-ken Hiroshima-shi Nagarekawachō         2\n",
      "Tōkyō-to Meguro-ku Jiyūgaoka                      2\n",
      "Tōkyō-to Shibuya-ku Higashi                       2\n",
      "Tōkyō-to Toshima-ku Sugamo                        2\n",
      "Tōkyō-to Shinagawa-ku Higashigotanda              2\n",
      "Tōkyō-to Meguro-ku Takaban                        2\n",
      "Tōkyō-to Musashino-shi Midorichō                  2\n",
      "Tōkyō-to Toshima-ku Nishiikebukuro                2\n",
      "Ōsaka-fu Sakai-shi Minamikawaramachi              2\n",
      "Ōsaka-fu Higashiōsaka-shi Aramotokita             2\n",
      "Fukuoka-ken Yame-shi Motomachi                    2\n",
      "Ōsaka-fu Ōsaka-shi Kyōmachibori                   2\n",
      "Fukuoka-ken Fukuoka-shi Tenjin                    2\n",
      "Tōkyō-to Kōtō-ku Kameido                          2\n",
      "Niigata-ken Kashiwazaki-shi Chūōchō               2\n",
      "Tōkyō-to Taitō-ku Kuramae                         2\n",
      "Hyōgo-ken Amagasaki-shi Higashinanamatsuchō       2\n",
      "Shizuoka-ken Numazu-shi Miyukichō                 2\n",
      "Tōkyō-to Shibuya-ku Jingūmae                      2\n",
      "Name: air_area_name, Length: 103, dtype: int64\n"
     ]
    }
   ],
   "source": [
    "print(df['air_area_name'].describe())\n",
    "print('\\n***********************************')\n",
    "print(df['air_area_name'].value_counts())"
   ]
  },
  {
   "cell_type": "markdown",
   "metadata": {},
   "source": [
    "<h1>New columns extension </h1>\n",
    "<p>extension for air_area_name</p>\n",
    "<ul>For example: Fukuoka-ken Fukuoka-shi Shiobaru \n",
    "<li>region - Fukuoka-ken</li>\n",
    "<li>city - Fukuoka-shi</li>\n",
    "<li>street - Shiobaru</li>\n",
    "</ul>"
   ]
  },
  {
   "cell_type": "markdown",
   "metadata": {},
   "source": [
    "INFO: The air_area_name_region column contains information about location: prefecture, capital or ward, and area. Thus we can split that information into separate columns."
   ]
  },
  {
   "cell_type": "code",
   "execution_count": 141,
   "metadata": {},
   "outputs": [],
   "source": [
    "area_split = df['air_area_name'].str.split(' ', expand=True)\n",
    "\n",
    "df['region'] = area_split[0]\n",
    "df['city'] = area_split[1]\n",
    "df['street'] = area_split.iloc[:, 2:].apply(lambda row: ' '.join(row.dropna()), axis=1)\n"
   ]
  },
  {
   "cell_type": "code",
   "execution_count": 117,
   "metadata": {},
   "outputs": [
    {
     "data": {
      "text/plain": [
       "29"
      ]
     },
     "execution_count": 117,
     "metadata": {},
     "output_type": "execute_result"
    }
   ],
   "source": [
    "len(df[df['city']=='Sapporo-shi']['air_store_id'].unique())"
   ]
  },
  {
   "cell_type": "code",
   "execution_count": 142,
   "metadata": {},
   "outputs": [
    {
     "data": {
      "text/html": [
       "<div>\n",
       "<style scoped>\n",
       "    .dataframe tbody tr th:only-of-type {\n",
       "        vertical-align: middle;\n",
       "    }\n",
       "\n",
       "    .dataframe tbody tr th {\n",
       "        vertical-align: top;\n",
       "    }\n",
       "\n",
       "    .dataframe thead th {\n",
       "        text-align: right;\n",
       "    }\n",
       "</style>\n",
       "<table border=\"1\" class=\"dataframe\">\n",
       "  <thead>\n",
       "    <tr style=\"text-align: right;\">\n",
       "      <th></th>\n",
       "      <th>air_store_id</th>\n",
       "      <th>air_genre_name</th>\n",
       "      <th>air_area_name</th>\n",
       "      <th>latitude</th>\n",
       "      <th>longitude</th>\n",
       "      <th>region</th>\n",
       "      <th>city</th>\n",
       "      <th>street</th>\n",
       "    </tr>\n",
       "  </thead>\n",
       "  <tbody>\n",
       "    <tr>\n",
       "      <th>824</th>\n",
       "      <td>air_9bf595ef095572fb</td>\n",
       "      <td>International cuisine</td>\n",
       "      <td>Tōkyō-to Shibuya-ku Shibuya</td>\n",
       "      <td>35.661777</td>\n",
       "      <td>139.704051</td>\n",
       "      <td>Tōkyō-to</td>\n",
       "      <td>Shibuya-ku</td>\n",
       "      <td>Shibuya</td>\n",
       "    </tr>\n",
       "    <tr>\n",
       "      <th>825</th>\n",
       "      <td>air_764f71040a413d4d</td>\n",
       "      <td>Asian</td>\n",
       "      <td>Tōkyō-to Shibuya-ku Shibuya</td>\n",
       "      <td>35.661777</td>\n",
       "      <td>139.704051</td>\n",
       "      <td>Tōkyō-to</td>\n",
       "      <td>Shibuya-ku</td>\n",
       "      <td>Shibuya</td>\n",
       "    </tr>\n",
       "    <tr>\n",
       "      <th>826</th>\n",
       "      <td>air_10bbe8acd943d8f6</td>\n",
       "      <td>Asian</td>\n",
       "      <td>Tōkyō-to Shibuya-ku Shibuya</td>\n",
       "      <td>35.661777</td>\n",
       "      <td>139.704051</td>\n",
       "      <td>Tōkyō-to</td>\n",
       "      <td>Shibuya-ku</td>\n",
       "      <td>Shibuya</td>\n",
       "    </tr>\n",
       "    <tr>\n",
       "      <th>827</th>\n",
       "      <td>air_7514d90009613cd6</td>\n",
       "      <td>Karaoke/Party</td>\n",
       "      <td>Hokkaidō Sapporo-shi Minami 3 Jōnishi</td>\n",
       "      <td>43.055460</td>\n",
       "      <td>141.340956</td>\n",
       "      <td>Hokkaidō</td>\n",
       "      <td>Sapporo-shi</td>\n",
       "      <td>Minami 3 Jōnishi</td>\n",
       "    </tr>\n",
       "    <tr>\n",
       "      <th>828</th>\n",
       "      <td>air_c8fe396d6c46275d</td>\n",
       "      <td>Karaoke/Party</td>\n",
       "      <td>Hokkaidō Sapporo-shi Minami 3 Jōnishi</td>\n",
       "      <td>43.055460</td>\n",
       "      <td>141.340956</td>\n",
       "      <td>Hokkaidō</td>\n",
       "      <td>Sapporo-shi</td>\n",
       "      <td>Minami 3 Jōnishi</td>\n",
       "    </tr>\n",
       "  </tbody>\n",
       "</table>\n",
       "</div>"
      ],
      "text/plain": [
       "             air_store_id         air_genre_name  \\\n",
       "824  air_9bf595ef095572fb  International cuisine   \n",
       "825  air_764f71040a413d4d                  Asian   \n",
       "826  air_10bbe8acd943d8f6                  Asian   \n",
       "827  air_7514d90009613cd6          Karaoke/Party   \n",
       "828  air_c8fe396d6c46275d          Karaoke/Party   \n",
       "\n",
       "                             air_area_name   latitude   longitude    region  \\\n",
       "824            Tōkyō-to Shibuya-ku Shibuya  35.661777  139.704051  Tōkyō-to   \n",
       "825            Tōkyō-to Shibuya-ku Shibuya  35.661777  139.704051  Tōkyō-to   \n",
       "826            Tōkyō-to Shibuya-ku Shibuya  35.661777  139.704051  Tōkyō-to   \n",
       "827  Hokkaidō Sapporo-shi Minami 3 Jōnishi  43.055460  141.340956  Hokkaidō   \n",
       "828  Hokkaidō Sapporo-shi Minami 3 Jōnishi  43.055460  141.340956  Hokkaidō   \n",
       "\n",
       "            city            street  \n",
       "824   Shibuya-ku           Shibuya  \n",
       "825   Shibuya-ku           Shibuya  \n",
       "826   Shibuya-ku           Shibuya  \n",
       "827  Sapporo-shi  Minami 3 Jōnishi  \n",
       "828  Sapporo-shi  Minami 3 Jōnishi  "
      ]
     },
     "execution_count": 142,
     "metadata": {},
     "output_type": "execute_result"
    }
   ],
   "source": [
    "df.tail()"
   ]
  },
  {
   "cell_type": "code",
   "execution_count": 143,
   "metadata": {},
   "outputs": [
    {
     "name": "stdout",
     "output_type": "stream",
     "text": [
      "************ Region_Air_Area_Name ***************\n",
      "count          829\n",
      "unique           9\n",
      "top       Tōkyō-to\n",
      "freq           444\n",
      "Name: region, dtype: object\n",
      "\n",
      "****************************************\n",
      "\n",
      "\n",
      "************ Ward_Air_Area_Name ***************\n",
      "count             829\n",
      "unique             55\n",
      "top       Fukuoka-shi\n",
      "freq              103\n",
      "Name: city, dtype: object\n",
      "\n",
      "****************************************\n",
      "Fukuoka-shi         103\n",
      "Ōsaka-shi            66\n",
      "Shibuya-ku           64\n",
      "Minato-ku            61\n",
      "Shinjuku-ku          43\n",
      "Chūō-ku              43\n",
      "Setagaya-ku          39\n",
      "Sapporo-shi          29\n",
      "Meguro-ku            26\n",
      "Hiroshima-shi        25\n",
      "Kōbe-shi             25\n",
      "Toshima-ku           23\n",
      "Chiyoda-ku           22\n",
      "Taitō-ku             22\n",
      "Suginami-ku          21\n",
      "Sendai-shi           17\n",
      "Asahikawa-shi        13\n",
      "Kōtō-ku              13\n",
      "Hamamatsu-shi        13\n",
      "Niigata-shi          10\n",
      "Kakogawa-shi         10\n",
      "Himeji-shi            9\n",
      "Kitakyūshū-shi        9\n",
      "Itoshima-shi          7\n",
      "Bunkyō-ku             7\n",
      "Shinagawa-ku          7\n",
      "Ōta-ku                7\n",
      "Nishinomiya-shi       7\n",
      "Fukuyama-shi          7\n",
      "Itabashi-ku           6\n",
      "Nakano-ku             6\n",
      "Tachikawa-shi         6\n",
      "Kurume-shi            6\n",
      "Machida-shi           4\n",
      "Adachi-ku             4\n",
      "Takarazuka-shi        4\n",
      "Musashino-shi         4\n",
      "Nerima-ku             4\n",
      "Edogawa-ku            4\n",
      "Shizuoka-shi          3\n",
      "Suita-shi             2\n",
      "Numazu-shi            2\n",
      "Sakai-shi             2\n",
      "Fuchū-shi             2\n",
      "Abashiri-shi          2\n",
      "Higashiōsaka-shi      2\n",
      "Nagaoka-shi           2\n",
      "Koganei-shi           2\n",
      "Kashiwazaki-shi       2\n",
      "Kita-ku               2\n",
      "Katsushika-ku         2\n",
      "Neyagawa-shi          2\n",
      "Amagasaki-shi         2\n",
      "Katō-gun              2\n",
      "Yame-shi              2\n",
      "Name: city, dtype: int64\n",
      "\n",
      "\n",
      "************ Area_Air_Area_Name ***************\n",
      "count        829\n",
      "unique       100\n",
      "top       Daimyō\n",
      "freq          64\n",
      "Name: street, dtype: object\n",
      "\n",
      "****************************************\n",
      "Daimyō                   64\n",
      "Shibuya                  58\n",
      "Shibakōen                51\n",
      "Kabukichō                39\n",
      "Setagaya                 30\n",
      "Tsukiji                  29\n",
      "Ōgimachi                 25\n",
      "Kokutaijimachi           23\n",
      "Kamimeguro               22\n",
      "Minami 3 Jōnishi         21\n",
      "Asagayaminami            21\n",
      "Kudanminami              20\n",
      "Kyūtarōmachi             19\n",
      "Kamisugi                 17\n",
      "Kumoidōri                17\n",
      "Higashiueno              16\n",
      "Hakata Ekimae            16\n",
      "Ginza                    14\n",
      "6 Jōdōri                 13\n",
      "Motoshirochō             13\n",
      "Minamiikebukuro          12\n",
      "Shinmachi                10\n",
      "Kakogawachō Kitazaike    10\n",
      "Yasuda                    9\n",
      "Tōyō                      9\n",
      "Akasaka                   8\n",
      "Izumichō                  8\n",
      "Gakkōchōdōri 1 Banchō     7\n",
      "Rokutanjichō              7\n",
      "Higashisakuramachi        7\n",
      "                         ..\n",
      "Kuramae                   2\n",
      "Higashinanamatsuchō       2\n",
      "Konyamachi                2\n",
      "Miyanishichō              2\n",
      "Jingūmae                  2\n",
      "Ōjihonchō                 2\n",
      "Kichijōji Honchō          2\n",
      "Midorichō                 2\n",
      "Atsubetsuchūō 1 Jō        2\n",
      "Kyōmachibori              2\n",
      "Mejiro                    2\n",
      "Jiyūgaoka                 2\n",
      "Kanda Jinbōchō            2\n",
      "Sugamo                    2\n",
      "Sendagi                   2\n",
      "Kitazawa                  2\n",
      "Nagarekawachō             2\n",
      "Fuminosato                2\n",
      "Takaban                   2\n",
      "Chūōchō                   2\n",
      "Tomioka                   2\n",
      "Roppongi                  2\n",
      "Nishiikebukuro            2\n",
      "Ōtedōri                   2\n",
      "Minami 6 Jōhigashi        2\n",
      "Dōgenzaka                 2\n",
      "Higashi                   2\n",
      "Sangenjaya                2\n",
      "Honmachi                  2\n",
      "Takatori                  2\n",
      "Name: street, Length: 100, dtype: int64\n"
     ]
    }
   ],
   "source": [
    "print('************ Region_Air_Area_Name ***************')\n",
    "print(df['region'].describe())\n",
    "print('\\n****************************************')\n",
    "#print(df['region_air_area_name'].unique())\n",
    "#print('\\n****************************************')\n",
    "#print(df['region'].value_counts())\n",
    "#df['num_region'] = df['air_area_name'].value_counts()\n",
    "     \n",
    "print('\\n\\n************ Ward_Air_Area_Name ***************')\n",
    "print(df['city'].describe())\n",
    "print('\\n****************************************')\n",
    "print(df['city'].value_counts())\n",
    "\n",
    "\n",
    "print('\\n\\n************ Area_Air_Area_Name ***************')\n",
    "print(df['street'].describe())\n",
    "print('\\n****************************************')\n",
    "print(df['street'].value_counts())\n",
    "\n",
    "\n",
    "# Hokkaidō Sapporo-shi Minami 3 Jōnishi \n",
    "# Hokkaidō Asahikawa-shi  6 Jōdōri    \n",
    "# Hokkaidō Sapporo-shi Atsubetsuchūō 1 Jō    \n",
    "# Niigata-ken Niigata-shi Gakkōchōdōri 1 Banchō "
   ]
  },
  {
   "cell_type": "markdown",
   "metadata": {},
   "source": [
    "<h2>Columns latitude and longitude</h2>"
   ]
  },
  {
   "cell_type": "code",
   "execution_count": 144,
   "metadata": {},
   "outputs": [
    {
     "name": "stdout",
     "output_type": "stream",
     "text": [
      "***********  latitude    *************\n",
      "count    829.000000\n",
      "mean      35.647042\n",
      "std        2.084659\n",
      "min       33.211967\n",
      "25%       34.695124\n",
      "50%       35.658068\n",
      "75%       35.694003\n",
      "max       44.020632\n",
      "Name: latitude, dtype: float64\n",
      "\n",
      "\n",
      "the data set have 108 diffrent latitude\n",
      "\n",
      "\n",
      "\n",
      "***********  longitude    *************\n",
      "count    829.000000\n",
      "mean     137.415311\n",
      "std        3.650971\n",
      "min      130.195555\n",
      "25%      135.341564\n",
      "50%      139.685474\n",
      "75%      139.751599\n",
      "max      144.273398\n",
      "Name: longitude, dtype: float64\n",
      "\n",
      "\n",
      "the data set have 108 diffrent longitude\n"
     ]
    }
   ],
   "source": [
    "print('***********  latitude    *************')\n",
    "print(df['latitude'].describe())\n",
    "print('\\n')\n",
    "print(\"the data set have %s diffrent latitude\"%len(df['latitude'].unique()))\n",
    "print('\\n\\n')\n",
    "\n",
    "print('***********  longitude    *************')\n",
    "print(df['longitude'].describe())\n",
    "print('\\n')\n",
    "print(\"the data set have %s diffrent longitude\"%len(df['longitude'].unique()))"
   ]
  },
  {
   "cell_type": "code",
   "execution_count": 145,
   "metadata": {},
   "outputs": [],
   "source": [
    "## Ploting bivariate relationtips. This graph will show the scatterplot for each combination and at \n",
    "## the diagonal will show the histogram of the variable. This graph helps to detect correlations and \n",
    "## outliers\n",
    "#sns.pairplot(df)"
   ]
  },
  {
   "cell_type": "code",
   "execution_count": 146,
   "metadata": {},
   "outputs": [],
   "source": [
    "#df['bla'] = df['region'].astype('category')"
   ]
  },
  {
   "cell_type": "code",
   "execution_count": 147,
   "metadata": {},
   "outputs": [],
   "source": [
    "#df['num_region']"
   ]
  },
  {
   "cell_type": "code",
   "execution_count": 148,
   "metadata": {},
   "outputs": [],
   "source": [
    "#df['bla'].describe()"
   ]
  },
  {
   "cell_type": "code",
   "execution_count": 149,
   "metadata": {},
   "outputs": [],
   "source": [
    "#df['ai'] = df['air_store_id'].astype('category')"
   ]
  },
  {
   "cell_type": "code",
   "execution_count": 150,
   "metadata": {},
   "outputs": [
    {
     "name": "stdout",
     "output_type": "stream",
     "text": [
      "9\n",
      "We have 9 diffrent regions in this AIR\n",
      "55\n",
      "We have 55 diffrent cities in this AIR\n",
      "100\n",
      "We have 100 diffrent streets in this AIR\n"
     ]
    }
   ],
   "source": [
    "print(len(df['region'].value_counts()))\n",
    "print(\"We have %s diffrent regions in this AIR\"%len(df['region'].unique()))\n",
    "print(len(df['city'].value_counts()))\n",
    "print(\"We have %s diffrent cities in this AIR\"%len(df['city'].unique()))\n",
    "print(len(df['street'].value_counts()))\n",
    "print(\"We have %s diffrent streets in this AIR\"%len(df['street'].unique()))"
   ]
  },
  {
   "cell_type": "code",
   "execution_count": 152,
   "metadata": {},
   "outputs": [
    {
     "data": {
      "text/plain": [
       "<seaborn.axisgrid.PairGrid at 0x7f94eec1f7b8>"
      ]
     },
     "execution_count": 152,
     "metadata": {},
     "output_type": "execute_result"
    },
    {
     "data": {
      "image/png": "[encoded data removed]",
      "text/plain": [
       "<Figure size 360x360 with 6 Axes>"
      ]
     },
     "metadata": {
      "needs_background": "light"
     },
     "output_type": "display_data"
    }
   ],
   "source": [
    "sns.pairplot(df)\n",
    "#df.dtypes\n"
   ]
  },
  {
   "cell_type": "code",
   "execution_count": null,
   "metadata": {},
   "outputs": [],
   "source": []
  }
 ],
 "metadata": {
  "kernelspec": {
   "display_name": "Python 3",
   "language": "python",
   "name": "python3"
  },
  "language_info": {
   "codemirror_mode": {
    "name": "ipython",
    "version": 3
   },
   "file_extension": ".py",
   "mimetype": "text/x-python",
   "name": "python",
   "nbconvert_exporter": "python",
   "pygments_lexer": "ipython3",
   "version": "3.6.8"
  }
 },
 "nbformat": 4,
 "nbformat_minor": 2
}
