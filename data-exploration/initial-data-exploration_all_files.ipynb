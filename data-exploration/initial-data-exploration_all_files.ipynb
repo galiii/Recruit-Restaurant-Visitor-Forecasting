{
 "cells": [
  {
   "cell_type": "markdown",
   "metadata": {},
   "source": [
    "<h1>Introduction</h1>\n",
    "<p>The purpose of this challenge is to use reservation and visitation data to predict the total number of restaurant visitors for future days.</p> \n",
    "<p>The Japanese restaurants are owned by Recruit Holdings.\n",
    "</p>"
   ]
  },
  {
   "cell_type": "markdown",
   "metadata": {},
   "source": [
    "<h5>Datasets</h5>\n",
    "<p>Available datasets come from following sources:</p>\n",
    "<ul> \n",
    "    <li>Hot Pepper Gourmet (a restaurant review service)</li>\n",
    "    <li>AirREGI (a restaurant point of sales service)</li>\n",
    "    <li>Restaurant Board (reservation log management software)</li>\n",
    "    </ul>\n",
    "    \n",
    "<p>The datasets contain daily and hourly observations. This makes it a Time Series Forecasting problem.</p>\n",
    "    "
   ]
  },
  {
   "cell_type": "markdown",
   "metadata": {},
   "source": [
    "<h5>Business background</h5>\n",
    "<p>One common predicament is that restaurants need to know how many customers to expect each day to effectively purchase ingredients and schedule staff members. This forecast isn't easy to make because many unpredictable factors affect restaurant attendance, like weather and local competition. It's even harder for newer restaurants with little historical data.\n",
    "</p>"
   ]
  },
  {
   "cell_type": "markdown",
   "metadata": {},
   "source": [
    "<h2>Load Data</h2>"
   ]
  },
  {
   "cell_type": "code",
   "execution_count": 3,
   "metadata": {},
   "outputs": [],
   "source": [
    "import datetime\n",
    "import numpy as np\n",
    "import pandas as pd\n",
    "\n",
    "import seaborn as sns\n",
    "import matplotlib.pyplot as plt\n",
    "import matplotlib.dates as mdates\n",
    "import matplotlib.ticker as ticker\n",
    "import datetime as dt\n",
    "import calendar\n",
    "\n",
    "%matplotlib inline"
   ]
  },
  {
   "cell_type": "code",
   "execution_count": 4,
   "metadata": {},
   "outputs": [],
   "source": [
    "AIR_RESERVE = 'air_reserve'\n",
    "AIR_STORE_INFO = 'air_store_info'\n",
    "AIR_VISIT_DATA = 'air_visit_data'\n",
    "DATE_INFO = 'date_info'\n",
    "HPG_RESERVE = 'hpg_reserve'\n",
    "HPG_STORE_INFO = 'hpg_store_info'\n",
    "STORE_ID_RELATION = 'store_id_relation'\n",
    "SAMPLE_SUBMISSION = 'sample_submission'\n",
    "\n",
    "data = {\n",
    "    AIR_RESERVE:       pd.read_csv('../input/air_reserve.csv', \n",
    "                                   parse_dates=['visit_datetime', 'reserve_datetime']),\n",
    "    AIR_STORE_INFO:    pd.read_csv('../input/air_store_info.csv'),\n",
    "    AIR_VISIT_DATA:    pd.read_csv('../input/air_visit_data.csv', \n",
    "                                   parse_dates=['visit_date']),\n",
    "    HPG_RESERVE:       pd.read_csv('../input/hpg_reserve.csv', \n",
    "                                   parse_dates=['visit_datetime', 'reserve_datetime']),\n",
    "    HPG_STORE_INFO:    pd.read_csv('../input/hpg_store_info.csv'),\n",
    "    DATE_INFO:         pd.read_csv('../input/date_info.csv', \n",
    "                                   parse_dates=['calendar_date']),\n",
    "    STORE_ID_RELATION: pd.read_csv('../input/store_id_relation.csv'),\n",
    "    SAMPLE_SUBMISSION: pd.read_csv('../input/sample_submission.csv')\n",
    "}"
   ]
  },
  {
   "cell_type": "code",
   "execution_count": null,
   "metadata": {},
   "outputs": [],
   "source": []
  }
 ],
 "metadata": {
  "kernelspec": {
   "display_name": "Python 3",
   "language": "python",
   "name": "python3"
  },
  "language_info": {
   "codemirror_mode": {
    "name": "ipython",
    "version": 3
   },
   "file_extension": ".py",
   "mimetype": "text/x-python",
   "name": "python",
   "nbconvert_exporter": "python",
   "pygments_lexer": "ipython3",
   "version": "3.6.8"
  }
 },
 "nbformat": 4,
 "nbformat_minor": 2
}
