{
 "cells": [
  {
   "cell_type": "code",
   "execution_count": 16,
   "metadata": {},
   "outputs": [],
   "source": [
    "import numpy as np\n",
    "import pandas as pd\n",
    "import seaborn as sns\n",
    "import matplotlib.pyplot as plt\n",
    "import matplotlib.dates as mdates\n",
    "%matplotlib inline"
   ]
  },
  {
   "cell_type": "markdown",
   "metadata": {},
   "source": [
    "<h1>Hpg Store Info DB from csv</h1>"
   ]
  },
  {
   "cell_type": "code",
   "execution_count": 17,
   "metadata": {},
   "outputs": [],
   "source": [
    "df = pd.read_csv(\"../input/hpg_store_info.csv\")"
   ]
  },
  {
   "cell_type": "code",
   "execution_count": 18,
   "metadata": {},
   "outputs": [
    {
     "name": "stdout",
     "output_type": "stream",
     "text": [
      "<class 'pandas.core.frame.DataFrame'>\n",
      "RangeIndex: 4690 entries, 0 to 4689\n",
      "Data columns (total 5 columns):\n",
      "hpg_store_id      4690 non-null object\n",
      "hpg_genre_name    4690 non-null object\n",
      "hpg_area_name     4690 non-null object\n",
      "latitude          4690 non-null float64\n",
      "longitude         4690 non-null float64\n",
      "dtypes: float64(2), object(3)\n",
      "memory usage: 183.3+ KB\n"
     ]
    }
   ],
   "source": [
    "df.info()"
   ]
  },
  {
   "cell_type": "code",
   "execution_count": 19,
   "metadata": {},
   "outputs": [
    {
     "data": {
      "text/html": [
       "<div>\n",
       "<style scoped>\n",
       "    .dataframe tbody tr th:only-of-type {\n",
       "        vertical-align: middle;\n",
       "    }\n",
       "\n",
       "    .dataframe tbody tr th {\n",
       "        vertical-align: top;\n",
       "    }\n",
       "\n",
       "    .dataframe thead th {\n",
       "        text-align: right;\n",
       "    }\n",
       "</style>\n",
       "<table border=\"1\" class=\"dataframe\">\n",
       "  <thead>\n",
       "    <tr style=\"text-align: right;\">\n",
       "      <th></th>\n",
       "      <th>latitude</th>\n",
       "      <th>longitude</th>\n",
       "    </tr>\n",
       "  </thead>\n",
       "  <tbody>\n",
       "    <tr>\n",
       "      <th>count</th>\n",
       "      <td>4690.000000</td>\n",
       "      <td>4690.000000</td>\n",
       "    </tr>\n",
       "    <tr>\n",
       "      <th>mean</th>\n",
       "      <td>35.810261</td>\n",
       "      <td>137.675816</td>\n",
       "    </tr>\n",
       "    <tr>\n",
       "      <th>std</th>\n",
       "      <td>2.138755</td>\n",
       "      <td>3.197233</td>\n",
       "    </tr>\n",
       "    <tr>\n",
       "      <th>min</th>\n",
       "      <td>33.311645</td>\n",
       "      <td>130.339313</td>\n",
       "    </tr>\n",
       "    <tr>\n",
       "      <th>25%</th>\n",
       "      <td>34.692109</td>\n",
       "      <td>135.498859</td>\n",
       "    </tr>\n",
       "    <tr>\n",
       "      <th>50%</th>\n",
       "      <td>35.659214</td>\n",
       "      <td>139.495733</td>\n",
       "    </tr>\n",
       "    <tr>\n",
       "      <th>75%</th>\n",
       "      <td>35.703381</td>\n",
       "      <td>139.737998</td>\n",
       "    </tr>\n",
       "    <tr>\n",
       "      <th>max</th>\n",
       "      <td>43.774846</td>\n",
       "      <td>143.714585</td>\n",
       "    </tr>\n",
       "  </tbody>\n",
       "</table>\n",
       "</div>"
      ],
      "text/plain": [
       "          latitude    longitude\n",
       "count  4690.000000  4690.000000\n",
       "mean     35.810261   137.675816\n",
       "std       2.138755     3.197233\n",
       "min      33.311645   130.339313\n",
       "25%      34.692109   135.498859\n",
       "50%      35.659214   139.495733\n",
       "75%      35.703381   139.737998\n",
       "max      43.774846   143.714585"
      ]
     },
     "execution_count": 19,
     "metadata": {},
     "output_type": "execute_result"
    }
   ],
   "source": [
    "df.describe()"
   ]
  },
  {
   "cell_type": "code",
   "execution_count": 20,
   "metadata": {},
   "outputs": [
    {
     "data": {
      "text/plain": [
       "False"
      ]
     },
     "execution_count": 20,
     "metadata": {},
     "output_type": "execute_result"
    }
   ],
   "source": [
    "df.isnull().values.any()"
   ]
  },
  {
   "cell_type": "markdown",
   "metadata": {},
   "source": [
    "Data is clean and it does not contain any missing values."
   ]
  },
  {
   "cell_type": "markdown",
   "metadata": {},
   "source": [
    "<h2>Column: hpg_store_id</h2>"
   ]
  },
  {
   "cell_type": "code",
   "execution_count": 21,
   "metadata": {},
   "outputs": [
    {
     "data": {
      "text/html": [
       "<div>\n",
       "<style scoped>\n",
       "    .dataframe tbody tr th:only-of-type {\n",
       "        vertical-align: middle;\n",
       "    }\n",
       "\n",
       "    .dataframe tbody tr th {\n",
       "        vertical-align: top;\n",
       "    }\n",
       "\n",
       "    .dataframe thead th {\n",
       "        text-align: right;\n",
       "    }\n",
       "</style>\n",
       "<table border=\"1\" class=\"dataframe\">\n",
       "  <thead>\n",
       "    <tr style=\"text-align: right;\">\n",
       "      <th></th>\n",
       "      <th>hpg_store_id</th>\n",
       "      <th>hpg_genre_name</th>\n",
       "      <th>hpg_area_name</th>\n",
       "      <th>latitude</th>\n",
       "      <th>longitude</th>\n",
       "    </tr>\n",
       "  </thead>\n",
       "  <tbody>\n",
       "  </tbody>\n",
       "</table>\n",
       "</div>"
      ],
      "text/plain": [
       "Empty DataFrame\n",
       "Columns: [hpg_store_id, hpg_genre_name, hpg_area_name, latitude, longitude]\n",
       "Index: []"
      ]
     },
     "execution_count": 21,
     "metadata": {},
     "output_type": "execute_result"
    }
   ],
   "source": [
    "# Check if there are duplicated Store Ids\n",
    "\n",
    "df[df.duplicated(['hpg_store_id'])]"
   ]
  },
  {
   "cell_type": "markdown",
   "metadata": {},
   "source": [
    "Dataset is clean and it does not contain any duplicated entry :) That's great!"
   ]
  },
  {
   "cell_type": "markdown",
   "metadata": {},
   "source": [
    "<h2>Column: hpg_genre_name</h2>"
   ]
  },
  {
   "cell_type": "code",
   "execution_count": 22,
   "metadata": {},
   "outputs": [
    {
     "data": {
      "text/plain": [
       "Japanese style                  1750\n",
       "International cuisine            700\n",
       "Creation                         410\n",
       "Seafood                          339\n",
       "Grilled meat                     325\n",
       "Italian                          249\n",
       "Spain Bar/Italian Bar            229\n",
       "Chinese general                   91\n",
       "Japanese food in general          85\n",
       "Japanese cuisine/Kaiseki          64\n",
       "Karaoke                           60\n",
       "Creative Japanese food            60\n",
       "Shabu-shabu/Sukiyaki              59\n",
       "Okonomiyaki/Monja/Teppanyaki      44\n",
       "Party                             40\n",
       "Korean cuisine                    38\n",
       "French                            27\n",
       "Steak/Hamburger/Curry             24\n",
       "Bistro                            22\n",
       "Cafe                              16\n",
       "Sushi                             11\n",
       "Pasta/Pizza                       10\n",
       "Bar/Cocktail                       7\n",
       "Western food                       5\n",
       "Amusement bar                      5\n",
       "Thai/Vietnamese food               5\n",
       "Cantonese food                     4\n",
       "Sichuan food                       3\n",
       "Sweets                             2\n",
       "Dim Sum/Dumplings                  2\n",
       "Spain/Mediterranean cuisine        1\n",
       "Shanghai food                      1\n",
       "Taiwanese/Hong Kong cuisine        1\n",
       "Udon/Soba                          1\n",
       "Name: hpg_genre_name, dtype: int64"
      ]
     },
     "execution_count": 22,
     "metadata": {},
     "output_type": "execute_result"
    }
   ],
   "source": [
    "df['hpg_genre_name'].value_counts()"
   ]
  },
  {
   "cell_type": "markdown",
   "metadata": {},
   "source": [
    "<h2>Column: hpg_area_name</h2>"
   ]
  },
  {
   "cell_type": "code",
   "execution_count": 23,
   "metadata": {},
   "outputs": [
    {
     "data": {
      "text/plain": [
       "Tōkyō-to Shinjuku-ku None                    257\n",
       "Tōkyō-to Chūō-ku Ginza                       198\n",
       "Hyōgo-ken Kōbe-shi None                      163\n",
       "Ōsaka-fu Ōsaka-shi Shinsaibashisuji          150\n",
       "Osaka Prefecture Osaka None                  145\n",
       "Hiroshima-ken Hiroshima-shi Hondōri          135\n",
       "Tōkyō-to Shibuya-ku None                     127\n",
       "Tōkyō-to Minato-ku Takanawa                  122\n",
       "Tōkyō-to Toshima-ku None                     119\n",
       "None None None                               117\n",
       "Tōkyō-to Hachiōji-shi Ishikawamachi          114\n",
       "Hokkaidō Sapporo-shi Minami 4 Jōnishi        110\n",
       "Tōkyō-to Taitō-ku None                       100\n",
       "Fukuoka-ken Fukuoka-shi None                  90\n",
       "Shizuoka-ken Hamamatsu-shi Sukenobuchō        90\n",
       "Tōkyō-to Chiyoda-ku None                      89\n",
       "Tōkyō-to Chūō-ku None                         86\n",
       "Tōkyō-to Sumida-ku Tachibana                  86\n",
       "Hokkaidō Sapporo-shi None                     84\n",
       "Shizuoka-ken Shizuoka-shi Hinodechō           79\n",
       "Tōkyō-to Minato-ku Roppongi                   78\n",
       "Tōkyō-to Machida-shi Nakamachi                74\n",
       "Miyagi-ken Sendai-shi Ichibanchō              73\n",
       "Fukuoka-ken Fukuoka-shi Hakata Ekimae         66\n",
       "Ōsaka-fu Ōsaka-shi Awajimachi                 66\n",
       "Fukuoka-ken Kitakyūshū-shi Sunatsu            65\n",
       "Hyōgo-ken Himeji-shi Tsuchiyama               63\n",
       "Kanagawa-ken Yokohama-shi Nagatsutachō        61\n",
       "Hiroshima-ken Hiroshima-shi Yokogawachō       60\n",
       "Tōkyō-to Shibuya-ku Ebisunishi                58\n",
       "                                            ... \n",
       "Tōkyō-to Meguro-ku Jiyūgaoka                   8\n",
       "Tōkyō-to Fussa-shi Musashinodai                7\n",
       "Tōkyō-to Hino-shi Ochikawa                     7\n",
       "Tōkyō-to Setagaya-ku None                      6\n",
       "Shizuoka-ken Shizuoka-shi Irie                 5\n",
       "Ōsaka-fu Ōsaka-shi Izuo                        5\n",
       "Ōsaka-fu Ōsaka-shi Hannanchō                   5\n",
       "Fukuoka-ken Chikushino-shi Yamaguchi           5\n",
       "Hokkaidō Sapporo-shi Sumikawa 2 Jō             5\n",
       "Tōkyō-to Itabashi-ku Maenochō                  4\n",
       "Miyagi-ken Sendai-shi Miyamachi                4\n",
       "Hokkaidō Asahikawa-shi Higashi 6 Jō            4\n",
       "Tōkyō-to Koganei-shi Kajinochō                 4\n",
       "Miyagi-ken Ōsaki-shi Furukawa                  4\n",
       "Miyagi-ken Sendai-shi Izumizaki                4\n",
       "Tōkyō-to Meguro-ku Takaban                     3\n",
       "Niigata-ken Jōetsu-shi Minamitaya Shinden      3\n",
       "Fukuoka-ken Fukuoka-shi Matsushima             3\n",
       "Miyagi-ken Shiogama-shi Shōyōdai               3\n",
       "Niigata-ken Shibata-shi Miyukichō              2\n",
       "Niigata-ken Niigata-shi Meike                  2\n",
       "Fukuoka-ken Iizuka-shi Mashiki                 2\n",
       "Shizuoka-ken Itō-shi Ogi                       2\n",
       "Niigata-ken Niigata-shi Kurumaba               2\n",
       "Shizuoka-ken Fujinomiya-shi Wakanomiyachō      2\n",
       "Ōsaka-fu Sakai-shi Kobirao                     2\n",
       "Hokkaidō Ashibetsu-shi None                    1\n",
       "Niigata-ken Nagaoka-shi Rokusho                1\n",
       "Tōkyō-to Shinagawa-ku Koyama                   1\n",
       "Ōsaka-fu Minoo-shi Hanjo                       1\n",
       "Name: hpg_area_name, Length: 119, dtype: int64"
      ]
     },
     "execution_count": 23,
     "metadata": {},
     "output_type": "execute_result"
    }
   ],
   "source": [
    "df['hpg_area_name'].value_counts()"
   ]
  },
  {
   "cell_type": "markdown",
   "metadata": {},
   "source": [
    "<h1>New columns extension </h1>\n",
    "<p>extension for air_area_name</p>\n",
    "<ul>For example: Fukuoka-ken Fukuoka-shi Shiobaru \n",
    "<li>region - Fukuoka-ken</li>\n",
    "<li>city - Fukuoka-shi</li>\n",
    "<li>street - Shiobaru</li>\n",
    "</ul>"
   ]
  },
  {
   "cell_type": "markdown",
   "metadata": {},
   "source": [
    "INFO: The hpg_area_name_region column contains information about location: prefecture, capital or ward, and area. Thus we can split that information into separate columns."
   ]
  },
  {
   "cell_type": "code",
   "execution_count": 24,
   "metadata": {},
   "outputs": [],
   "source": [
    "area_split = df['hpg_area_name'].str.split(' ', expand=True)\n",
    "\n",
    "df['region'] = area_split[0]\n",
    "df['city'] = area_split[1]\n",
    "df['street'] = area_split.iloc[:, 2:].apply(lambda row: ' '.join(row.dropna()), axis=1)\n"
   ]
  },
  {
   "cell_type": "code",
   "execution_count": 25,
   "metadata": {},
   "outputs": [
    {
     "data": {
      "text/html": [
       "<div>\n",
       "<style scoped>\n",
       "    .dataframe tbody tr th:only-of-type {\n",
       "        vertical-align: middle;\n",
       "    }\n",
       "\n",
       "    .dataframe tbody tr th {\n",
       "        vertical-align: top;\n",
       "    }\n",
       "\n",
       "    .dataframe thead th {\n",
       "        text-align: right;\n",
       "    }\n",
       "</style>\n",
       "<table border=\"1\" class=\"dataframe\">\n",
       "  <thead>\n",
       "    <tr style=\"text-align: right;\">\n",
       "      <th></th>\n",
       "      <th>hpg_store_id</th>\n",
       "      <th>hpg_genre_name</th>\n",
       "      <th>hpg_area_name</th>\n",
       "      <th>latitude</th>\n",
       "      <th>longitude</th>\n",
       "      <th>region</th>\n",
       "      <th>city</th>\n",
       "      <th>street</th>\n",
       "    </tr>\n",
       "  </thead>\n",
       "  <tbody>\n",
       "    <tr>\n",
       "      <th>0</th>\n",
       "      <td>hpg_6622b62385aec8bf</td>\n",
       "      <td>Japanese style</td>\n",
       "      <td>Tōkyō-to Setagaya-ku Taishidō</td>\n",
       "      <td>35.643675</td>\n",
       "      <td>139.668221</td>\n",
       "      <td>Tōkyō-to</td>\n",
       "      <td>Setagaya-ku</td>\n",
       "      <td>Taishidō</td>\n",
       "    </tr>\n",
       "    <tr>\n",
       "      <th>1</th>\n",
       "      <td>hpg_e9e068dd49c5fa00</td>\n",
       "      <td>Japanese style</td>\n",
       "      <td>Tōkyō-to Setagaya-ku Taishidō</td>\n",
       "      <td>35.643675</td>\n",
       "      <td>139.668221</td>\n",
       "      <td>Tōkyō-to</td>\n",
       "      <td>Setagaya-ku</td>\n",
       "      <td>Taishidō</td>\n",
       "    </tr>\n",
       "    <tr>\n",
       "      <th>2</th>\n",
       "      <td>hpg_2976f7acb4b3a3bc</td>\n",
       "      <td>Japanese style</td>\n",
       "      <td>Tōkyō-to Setagaya-ku Taishidō</td>\n",
       "      <td>35.643675</td>\n",
       "      <td>139.668221</td>\n",
       "      <td>Tōkyō-to</td>\n",
       "      <td>Setagaya-ku</td>\n",
       "      <td>Taishidō</td>\n",
       "    </tr>\n",
       "    <tr>\n",
       "      <th>3</th>\n",
       "      <td>hpg_e51a522e098f024c</td>\n",
       "      <td>Japanese style</td>\n",
       "      <td>Tōkyō-to Setagaya-ku Taishidō</td>\n",
       "      <td>35.643675</td>\n",
       "      <td>139.668221</td>\n",
       "      <td>Tōkyō-to</td>\n",
       "      <td>Setagaya-ku</td>\n",
       "      <td>Taishidō</td>\n",
       "    </tr>\n",
       "    <tr>\n",
       "      <th>4</th>\n",
       "      <td>hpg_e3d0e1519894f275</td>\n",
       "      <td>Japanese style</td>\n",
       "      <td>Tōkyō-to Setagaya-ku Taishidō</td>\n",
       "      <td>35.643675</td>\n",
       "      <td>139.668221</td>\n",
       "      <td>Tōkyō-to</td>\n",
       "      <td>Setagaya-ku</td>\n",
       "      <td>Taishidō</td>\n",
       "    </tr>\n",
       "  </tbody>\n",
       "</table>\n",
       "</div>"
      ],
      "text/plain": [
       "           hpg_store_id  hpg_genre_name                  hpg_area_name  \\\n",
       "0  hpg_6622b62385aec8bf  Japanese style  Tōkyō-to Setagaya-ku Taishidō   \n",
       "1  hpg_e9e068dd49c5fa00  Japanese style  Tōkyō-to Setagaya-ku Taishidō   \n",
       "2  hpg_2976f7acb4b3a3bc  Japanese style  Tōkyō-to Setagaya-ku Taishidō   \n",
       "3  hpg_e51a522e098f024c  Japanese style  Tōkyō-to Setagaya-ku Taishidō   \n",
       "4  hpg_e3d0e1519894f275  Japanese style  Tōkyō-to Setagaya-ku Taishidō   \n",
       "\n",
       "    latitude   longitude    region         city    street  \n",
       "0  35.643675  139.668221  Tōkyō-to  Setagaya-ku  Taishidō  \n",
       "1  35.643675  139.668221  Tōkyō-to  Setagaya-ku  Taishidō  \n",
       "2  35.643675  139.668221  Tōkyō-to  Setagaya-ku  Taishidō  \n",
       "3  35.643675  139.668221  Tōkyō-to  Setagaya-ku  Taishidō  \n",
       "4  35.643675  139.668221  Tōkyō-to  Setagaya-ku  Taishidō  "
      ]
     },
     "execution_count": 25,
     "metadata": {},
     "output_type": "execute_result"
    }
   ],
   "source": [
    "df.head()"
   ]
  },
  {
   "cell_type": "code",
   "execution_count": 26,
   "metadata": {},
   "outputs": [
    {
     "data": {
      "text/plain": [
       "Tōkyō-to         2076\n",
       "Ōsaka-fu          514\n",
       "Fukuoka-ken       380\n",
       "Hyōgo-ken         331\n",
       "Hokkaidō          298\n",
       "Hiroshima-ken     245\n",
       "Shizuoka-ken      231\n",
       "Osaka             145\n",
       "Niigata-ken       142\n",
       "Miyagi-ken        139\n",
       "None              117\n",
       "Kanagawa-ken       61\n",
       "Saitama-ken        11\n",
       "Name: region, dtype: int64"
      ]
     },
     "execution_count": 26,
     "metadata": {},
     "output_type": "execute_result"
    }
   ],
   "source": [
    "df['region'].value_counts()"
   ]
  },
  {
   "cell_type": "code",
   "execution_count": 27,
   "metadata": {},
   "outputs": [
    {
     "name": "stdout",
     "output_type": "stream",
     "text": [
      "13\n",
      "We have 13 diffrent regions in this hpg\n",
      "72\n",
      "We have 72 diffrent cities in this hpg\n",
      "101\n",
      "We have 101 diffrent streets in this hpg\n"
     ]
    }
   ],
   "source": [
    "print(len(df['region'].value_counts()))\n",
    "print(\"We have %s diffrent regions in this hpg\"%len(df['region'].unique()))\n",
    "print(len(df['city'].value_counts()))\n",
    "print(\"We have %s diffrent cities in this hpg\"%len(df['city'].unique()))\n",
    "print(len(df['street'].value_counts()))\n",
    "print(\"We have %s diffrent streets in this hpg\"%len(df['street'].unique()))"
   ]
  },
  {
   "cell_type": "code",
   "execution_count": 28,
   "metadata": {},
   "outputs": [
    {
     "data": {
      "text/plain": [
       "<seaborn.axisgrid.PairGrid at 0x7fbb59f62fd0>"
      ]
     },
     "execution_count": 28,
     "metadata": {},
     "output_type": "execute_result"
    },
    {
     "data": {
      "image/png": "[encoded data removed]",
      "text/plain": [
       "<Figure size 360x360 with 6 Axes>"
      ]
     },
     "metadata": {
      "needs_background": "light"
     },
     "output_type": "display_data"
    }
   ],
   "source": [
    "sns.pairplot(df)"
   ]
  },
  {
   "cell_type": "code",
   "execution_count": null,
   "metadata": {},
   "outputs": [],
   "source": []
  }
 ],
 "metadata": {
  "kernelspec": {
   "display_name": "Python 3",
   "language": "python",
   "name": "python3"
  },
  "language_info": {
   "codemirror_mode": {
    "name": "ipython",
    "version": 3
   },
   "file_extension": ".py",
   "mimetype": "text/x-python",
   "name": "python",
   "nbconvert_exporter": "python",
   "pygments_lexer": "ipython3",
   "version": "3.6.8"
  }
 },
 "nbformat": 4,
 "nbformat_minor": 2
}
