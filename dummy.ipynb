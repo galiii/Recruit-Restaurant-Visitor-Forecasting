{
 "cells": [
  {
   "cell_type": "code",
   "execution_count": 1,
   "metadata": {},
   "outputs": [],
   "source": [
    "import pandas as pd"
   ]
  },
  {
   "cell_type": "code",
   "execution_count": 2,
   "metadata": {},
   "outputs": [],
   "source": [
    "# Assume that a Customer can have n orders, \n",
    "# An Order can have m items, \n",
    "# and Items can be ordered more multiple times\n",
    "\n",
    "orders_df = pd.DataFrame()\n",
    "orders_df['customer_id'] = [1,1,1,1,1,2,2,3,3,3,3,3] # \n",
    "orders_df['order_id'] = [1,1,1,2,2,3,3,4,5,6,6,6]\n",
    "orders_df['item'] = ['apples', 'chocolate', 'chocolate', 'coffee', 'coffee', 'apples',\n",
    "'bananas', 'coffee', 'milkshake', 'chocolate', 'strawberry', 'strawberry']"
   ]
  },
  {
   "cell_type": "code",
   "execution_count": 3,
   "metadata": {},
   "outputs": [
    {
     "name": "stdout",
     "output_type": "stream",
     "text": [
      "    customer_id  order_id        item\n",
      "0             1         1      apples\n",
      "1             1         1   chocolate\n",
      "2             1         1   chocolate\n",
      "3             1         2      coffee\n",
      "4             1         2      coffee\n",
      "5             2         3      apples\n",
      "6             2         3     bananas\n",
      "7             3         4      coffee\n",
      "8             3         5   milkshake\n",
      "9             3         6   chocolate\n",
      "10            3         6  strawberry\n",
      "11            3         6  strawberry\n"
     ]
    }
   ],
   "source": [
    "# And this is how the dataframe looks like:\n",
    "print(orders_df)"
   ]
  },
  {
   "cell_type": "markdown",
   "metadata": {},
   "source": [
    "<bold>Now, we will use pandas transform function to count the number of Orders per Customer</bold>"
   ]
  },
  {
   "cell_type": "code",
   "execution_count": 4,
   "metadata": {},
   "outputs": [],
   "source": [
    "# First, we define the function that will be applied per customer_id\n",
    "count_number_of_orders = lambda x: len(x.unique())"
   ]
  },
  {
   "cell_type": "code",
   "execution_count": 5,
   "metadata": {},
   "outputs": [],
   "source": [
    "# And now, we can transform each group using the logic defined above\n",
    "orders_df['count_number_of_orders'] = (\n",
    "    # Put the results into a new column that is called 'number_of_orders_per_cient'\n",
    "    \n",
    "    orders_df   # Take the original dataframe\n",
    "    .groupby(['customer_id'])['order_id'] # Create a separate group for each customer_id & select the order_id\n",
    "    .transform(count_number_of_orders))   # Apply the function to each group separately\n",
    "    "
   ]
  },
  {
   "cell_type": "code",
   "execution_count": 7,
   "metadata": {},
   "outputs": [
    {
     "name": "stdout",
     "output_type": "stream",
     "text": [
      "    customer_id  order_id        item  count_number_of_orders\n",
      "0             1         1      apples                       2\n",
      "1             1         1   chocolate                       2\n",
      "2             1         1   chocolate                       2\n",
      "3             1         2      coffee                       2\n",
      "4             1         2      coffee                       2\n",
      "5             2         3      apples                       1\n",
      "6             2         3     bananas                       1\n",
      "7             3         4      coffee                       3\n",
      "8             3         5   milkshake                       3\n",
      "9             3         6   chocolate                       3\n",
      "10            3         6  strawberry                       3\n",
      "11            3         6  strawberry                       3\n"
     ]
    }
   ],
   "source": [
    "print(orders_df)"
   ]
  },
  {
   "cell_type": "code",
   "execution_count": null,
   "metadata": {},
   "outputs": [],
   "source": []
  }
 ],
 "metadata": {
  "kernelspec": {
   "display_name": "Python 3",
   "language": "python",
   "name": "python3"
  },
  "language_info": {
   "codemirror_mode": {
    "name": "ipython",
    "version": 3
   },
   "file_extension": ".py",
   "mimetype": "text/x-python",
   "name": "python",
   "nbconvert_exporter": "python",
   "pygments_lexer": "ipython3",
   "version": "3.6.8"
  }
 },
 "nbformat": 4,
 "nbformat_minor": 2
}
